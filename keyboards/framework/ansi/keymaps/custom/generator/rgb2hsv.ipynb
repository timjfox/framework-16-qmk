{
 "cells": [
  {
   "cell_type": "code",
   "execution_count": 4,
   "metadata": {},
   "outputs": [],
   "source": [
    "import colorsys"
   ]
  },
  {
   "cell_type": "code",
   "execution_count": 5,
   "metadata": {},
   "outputs": [],
   "source": [
    "\n",
    "def convert_rgb_to_hsv(red, green, blue):\n",
    "    # rgb normal: range (0-255, 0-255, 0.255)\n",
    "\n",
    "    # get rgb percentage: range (0-1, 0-1, 0-1 )\n",
    "    red_percentage = red / float(255)\n",
    "    green_percentage = green / float(255)\n",
    "    blue_percentage = blue / float(255)\n",
    "\n",
    "    # get hsv percentage: range (0-1, 0-1, 0-1)\n",
    "    color_hsv_percentage=colorsys.rgb_to_hsv(red_percentage, green_percentage, blue_percentage) \n",
    "    # print('color_hsv_percentage: ', color_hsv_percentage)\n",
    "\n",
    "    # get normal hsv: range (0-360, 0-255, 0-255)\n",
    "    # color_h=round(360*color_hsv_percentage[0])\n",
    "    h = round(255 * color_hsv_percentage[0])\n",
    "    s = round(255 * color_hsv_percentage[1])\n",
    "    v = round(255 * color_hsv_percentage[2])\n",
    "    # color_h=round(360*color_hsv_percentage[0])\n",
    "    # color_s=round(100*color_hsv_percentage[1])\n",
    "    # color_v=round(100*color_hsv_percentage[2])\n",
    "    hex_hsv = (hex(h).lstrip('0x').upper(),\n",
    "                 hex(s).lstrip('0x').upper(),\n",
    "                 hex(v).lstrip('0x').upper())\n",
    "    color_hsv = (h, s, v)\n",
    "\n",
    "    print(f'0x{hex_hsv[0]}, 0x{hex_hsv[1]}, 0x{hex_hsv[2]}')\n",
    "    return color_hsv\n"
   ]
  },
  {
   "cell_type": "code",
   "execution_count": 21,
   "metadata": {},
   "outputs": [
    {
     "name": "stdout",
     "output_type": "stream",
     "text": [
      "0x, 0xFF, 0xFF\n"
     ]
    },
    {
     "data": {
      "text/plain": [
       "(0, 255, 255)"
      ]
     },
     "execution_count": 21,
     "metadata": {},
     "output_type": "execute_result"
    }
   ],
   "source": [
    "convert_rgb_to_hsv(0xFF, 0x00, 0x00)"
   ]
  }
 ],
 "metadata": {
  "kernelspec": {
   "display_name": "Python 3",
   "language": "python",
   "name": "python3"
  },
  "language_info": {
   "codemirror_mode": {
    "name": "ipython",
    "version": 3
   },
   "file_extension": ".py",
   "mimetype": "text/x-python",
   "name": "python",
   "nbconvert_exporter": "python",
   "pygments_lexer": "ipython3",
   "version": "3.12.4"
  }
 },
 "nbformat": 4,
 "nbformat_minor": 2
}
