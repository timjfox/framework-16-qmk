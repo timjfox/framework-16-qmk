{
 "cells": [
  {
   "cell_type": "code",
   "execution_count": 2,
   "metadata": {},
   "outputs": [],
   "source": [
    "import numpy as np"
   ]
  },
  {
   "cell_type": "code",
   "execution_count": 25,
   "metadata": {},
   "outputs": [],
   "source": [
    "import jinja2"
   ]
  },
  {
   "cell_type": "code",
   "execution_count": 9,
   "metadata": {},
   "outputs": [
    {
     "name": "stdout",
     "output_type": "stream",
     "text": [
      "['A', '1', 'B', '2', 'C', '3']\n",
      "A is in ['0', '1', '2', '3', '4', '5', '6', '7', '8', '9', 'A', 'B', 'C', 'D', 'E', 'F']\n",
      "1 is in ['0', '1', '2', '3', '4', '5', '6', '7', '8', '9', 'A', 'B', 'C', 'D', 'E', 'F']\n",
      "B is in ['0', '1', '2', '3', '4', '5', '6', '7', '8', '9', 'A', 'B', 'C', 'D', 'E', 'F']\n",
      "2 is in ['0', '1', '2', '3', '4', '5', '6', '7', '8', '9', 'A', 'B', 'C', 'D', 'E', 'F']\n",
      "C is in ['0', '1', '2', '3', '4', '5', '6', '7', '8', '9', 'A', 'B', 'C', 'D', 'E', 'F']\n",
      "3 is in ['0', '1', '2', '3', '4', '5', '6', '7', '8', '9', 'A', 'B', 'C', 'D', 'E', 'F']\n"
     ]
    }
   ],
   "source": [
    "color = 'A1B2C3'\n",
    "\n",
    "print([c for c in color])\n",
    "\n",
    "allow_list = list('0123456789ABCDEF')\n",
    "\n",
    "for c in color:\n",
    "    if c in allow_list:\n",
    "        print(f'{c} is in {allow_list}')\n",
    "    else:\n",
    "        print(f'{c} is not in {allow_list}')\n"
   ]
  },
  {
   "cell_type": "code",
   "execution_count": 22,
   "metadata": {},
   "outputs": [],
   "source": [
    "# class FileWriter:\n",
    "# ***\n",
    "#\n",
    "#  Check out \"jinja\" for templating.  https://palletsprojects.com/p/jinja/\n",
    "#      Should be able to modify existing C file and avoid all this copying.\n",
    "#      can use configparser for python to make simple config file?\n",
    "#          config -> configparser -> jinja -> \n",
    "#\n",
    "# ***\n",
    "#\n",
    "# - IDEAS:\n",
    "#       special lighting for MO(SUPER) et. al. for WM keybinds and shortcuts\n",
    "#       can keyboard and macropad have shared custom keycodes to sync up?\n",
    "#       \n",
    "\n"
   ]
  },
  {
   "cell_type": "code",
   "execution_count": 10,
   "metadata": {},
   "outputs": [],
   "source": [
    "def newline(count: int = 1):\n",
    "    for _ in range(count):\n",
    "        f.write('\\n')"
   ]
  },
  {
   "cell_type": "code",
   "execution_count": null,
   "metadata": {},
   "outputs": [],
   "source": [
    "def write(line: str, newline_count: int = 1):\n",
    "    f.write(line)\n",
    "    newline(newline_count)"
   ]
  },
  {
   "cell_type": "code",
   "execution_count": 12,
   "metadata": {},
   "outputs": [],
   "source": [
    "write('#include QMK_KEYBOARD_H', 2)\n",
    "newline(2)\n",
    "write('#include \"framework.h\"', 2)\n",
    "newline(2)\n",
    "write('#define array_size(a) (sizeof(a) / sizeof((a)[0]))')\n",
    "newline(3)\n",
    "\n",
    "# enum custom_keycodes {\n",
    "#     LED_TOG = FN_LOCK + 1,\n",
    "#     LED_DEC,\n",
    "#     LED_INC\n",
    "# };\n",
    "\n",
    "# enum _layers {\n",
    "#   _BASE,\n",
    "#   _FN,\n",
    "#   _FN_LOCK,\n",
    "#   _FM\n",
    "# };"
   ]
  },
  {
   "cell_type": "code",
   "execution_count": 13,
   "metadata": {},
   "outputs": [],
   "source": [
    "f.close()"
   ]
  }
 ],
 "metadata": {
  "kernelspec": {
   "display_name": "Python 3",
   "language": "python",
   "name": "python3"
  },
  "language_info": {
   "codemirror_mode": {
    "name": "ipython",
    "version": 3
   },
   "file_extension": ".py",
   "mimetype": "text/x-python",
   "name": "python",
   "nbconvert_exporter": "python",
   "pygments_lexer": "ipython3",
   "version": "3.12.4"
  }
 },
 "nbformat": 4,
 "nbformat_minor": 2
}
